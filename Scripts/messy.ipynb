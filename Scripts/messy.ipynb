{
 "cells": [
  {
   "cell_type": "markdown",
   "id": "dbdf1371",
   "metadata": {},
   "source": [
    "# # IMDB Dataset Cleaning & Preparation"
   ]
  },
  {
   "cell_type": "code",
   "execution_count": 1,
   "id": "f594d743",
   "metadata": {},
   "outputs": [],
   "source": [
    "# Importing required libraries for data cleaning\n",
    "import pandas as pd\n",
    "import numpy as np"
   ]
  },
  {
   "cell_type": "code",
   "execution_count": 2,
   "id": "8710ea83",
   "metadata": {},
   "outputs": [],
   "source": [
    "# loading the dataset\n",
    "# - delimiter=';' specifies that columns are separated by semicolons (not the default comma)\n",
    "# - encoding='ISO-8859-1' handles special characters in the file (commonly used for non-UTF-8 files)\n",
    "# - on_bad_lines='skip' tells pandas to skip any rows that cause parsing errors (e.g., badly formatted lines)\n",
    "df = pd.read_csv('messy_IMDB_dataset.csv', delimiter=';', encoding='ISO-8859-1', on_bad_lines='skip')"
   ]
  },
  {
   "cell_type": "code",
   "execution_count": 3,
   "id": "33ac87f5",
   "metadata": {},
   "outputs": [],
   "source": [
    "# converting df to a dataframe\n",
    "df= pd.DataFrame(df)"
   ]
  },
  {
   "cell_type": "code",
   "execution_count": 4,
   "id": "04fe45d1",
   "metadata": {},
   "outputs": [
    {
     "data": {
      "text/html": [
       "<div>\n",
       "<style scoped>\n",
       "    .dataframe tbody tr th:only-of-type {\n",
       "        vertical-align: middle;\n",
       "    }\n",
       "\n",
       "    .dataframe tbody tr th {\n",
       "        vertical-align: top;\n",
       "    }\n",
       "\n",
       "    .dataframe thead th {\n",
       "        text-align: right;\n",
       "    }\n",
       "</style>\n",
       "<table border=\"1\" class=\"dataframe\">\n",
       "  <thead>\n",
       "    <tr style=\"text-align: right;\">\n",
       "      <th></th>\n",
       "      <th>IMBD title ID</th>\n",
       "      <th>Original titlÊ</th>\n",
       "      <th>Release year</th>\n",
       "      <th>Genrë¨</th>\n",
       "      <th>Duration</th>\n",
       "      <th>Country</th>\n",
       "      <th>Content Rating</th>\n",
       "      <th>Director</th>\n",
       "      <th>Unnamed: 8</th>\n",
       "      <th>Income</th>\n",
       "      <th>Votes</th>\n",
       "      <th>Score</th>\n",
       "    </tr>\n",
       "  </thead>\n",
       "  <tbody>\n",
       "    <tr>\n",
       "      <th>0</th>\n",
       "      <td>tt0111161</td>\n",
       "      <td>The Shawshank Redemption</td>\n",
       "      <td>1995-02-10</td>\n",
       "      <td>Drama</td>\n",
       "      <td>142</td>\n",
       "      <td>USA</td>\n",
       "      <td>R</td>\n",
       "      <td>Frank Darabont</td>\n",
       "      <td>NaN</td>\n",
       "      <td>$ 28815245</td>\n",
       "      <td>2.278.845</td>\n",
       "      <td>9.3</td>\n",
       "    </tr>\n",
       "    <tr>\n",
       "      <th>1</th>\n",
       "      <td>tt0068646</td>\n",
       "      <td>The Godfather</td>\n",
       "      <td>09 21 1972</td>\n",
       "      <td>Crime, Drama</td>\n",
       "      <td>175</td>\n",
       "      <td>USA</td>\n",
       "      <td>R</td>\n",
       "      <td>Francis Ford Coppola</td>\n",
       "      <td>NaN</td>\n",
       "      <td>$ 246120974</td>\n",
       "      <td>1.572.674</td>\n",
       "      <td>9.2</td>\n",
       "    </tr>\n",
       "    <tr>\n",
       "      <th>2</th>\n",
       "      <td>tt0468569</td>\n",
       "      <td>The Dark Knight</td>\n",
       "      <td>23 -07-2008</td>\n",
       "      <td>Action, Crime, Drama</td>\n",
       "      <td>152</td>\n",
       "      <td>US</td>\n",
       "      <td>PG-13</td>\n",
       "      <td>Christopher Nolan</td>\n",
       "      <td>NaN</td>\n",
       "      <td>$ 1005455211</td>\n",
       "      <td>2.241.615</td>\n",
       "      <td>9.</td>\n",
       "    </tr>\n",
       "    <tr>\n",
       "      <th>3</th>\n",
       "      <td>tt0071562</td>\n",
       "      <td>The Godfather: Part II</td>\n",
       "      <td>1975-09-25</td>\n",
       "      <td>Crime, Drama</td>\n",
       "      <td>220</td>\n",
       "      <td>USA</td>\n",
       "      <td>R</td>\n",
       "      <td>Francis Ford Coppola</td>\n",
       "      <td>NaN</td>\n",
       "      <td>$ 4o8,035,783</td>\n",
       "      <td>1.098.714</td>\n",
       "      <td>9,.0</td>\n",
       "    </tr>\n",
       "    <tr>\n",
       "      <th>4</th>\n",
       "      <td>tt0110912</td>\n",
       "      <td>Pulp Fiction</td>\n",
       "      <td>1994-10-28</td>\n",
       "      <td>Crime, Drama</td>\n",
       "      <td></td>\n",
       "      <td>USA</td>\n",
       "      <td>R</td>\n",
       "      <td>Quentin Tarantino</td>\n",
       "      <td>NaN</td>\n",
       "      <td>$ 222831817</td>\n",
       "      <td>1.780.147</td>\n",
       "      <td>8,9f</td>\n",
       "    </tr>\n",
       "    <tr>\n",
       "      <th>5</th>\n",
       "      <td>tt0167260</td>\n",
       "      <td>The Lord of the Rings: The Return of the King</td>\n",
       "      <td>22 Feb 04</td>\n",
       "      <td>Action, Adventure, Drama</td>\n",
       "      <td>201</td>\n",
       "      <td>New Zealand</td>\n",
       "      <td>PG-13</td>\n",
       "      <td>Peter Jackson</td>\n",
       "      <td>NaN</td>\n",
       "      <td>$ 1142271098</td>\n",
       "      <td>1.604.280</td>\n",
       "      <td>08.9</td>\n",
       "    </tr>\n",
       "    <tr>\n",
       "      <th>6</th>\n",
       "      <td>tt0108052</td>\n",
       "      <td>Schindler's List</td>\n",
       "      <td>1994-03-11</td>\n",
       "      <td>Biography, Drama, History</td>\n",
       "      <td>Nan</td>\n",
       "      <td>USA</td>\n",
       "      <td>R</td>\n",
       "      <td>Steven Spielberg</td>\n",
       "      <td>NaN</td>\n",
       "      <td>$ 322287794</td>\n",
       "      <td>1.183.248</td>\n",
       "      <td>8.9</td>\n",
       "    </tr>\n",
       "    <tr>\n",
       "      <th>7</th>\n",
       "      <td>tt0050083</td>\n",
       "      <td>12 Angry Men</td>\n",
       "      <td>1957-09-04</td>\n",
       "      <td>Crime, Drama</td>\n",
       "      <td>96</td>\n",
       "      <td>USA</td>\n",
       "      <td>Not Rated</td>\n",
       "      <td>Sidney Lumet</td>\n",
       "      <td>NaN</td>\n",
       "      <td>$ 576</td>\n",
       "      <td>668.473</td>\n",
       "      <td>8.9</td>\n",
       "    </tr>\n",
       "    <tr>\n",
       "      <th>8</th>\n",
       "      <td>tt1375666</td>\n",
       "      <td>Inception</td>\n",
       "      <td>2010-09-24</td>\n",
       "      <td>Action, Adventure, Sci-Fi</td>\n",
       "      <td>148</td>\n",
       "      <td>USA</td>\n",
       "      <td>PG-13</td>\n",
       "      <td>Christopher Nolan</td>\n",
       "      <td>NaN</td>\n",
       "      <td>$ 869784991</td>\n",
       "      <td>2.002.816</td>\n",
       "      <td>8..8</td>\n",
       "    </tr>\n",
       "    <tr>\n",
       "      <th>9</th>\n",
       "      <td>tt0137523</td>\n",
       "      <td>Fight Club</td>\n",
       "      <td>10-29-99</td>\n",
       "      <td>Drama</td>\n",
       "      <td>Inf</td>\n",
       "      <td>UK</td>\n",
       "      <td>R</td>\n",
       "      <td>David Fincher</td>\n",
       "      <td>NaN</td>\n",
       "      <td>$ 101218804</td>\n",
       "      <td>1.807.440</td>\n",
       "      <td>8.8</td>\n",
       "    </tr>\n",
       "  </tbody>\n",
       "</table>\n",
       "</div>"
      ],
      "text/plain": [
       "  IMBD title ID                                 Original titlÊ  Release year  \\\n",
       "0     tt0111161                       The Shawshank Redemption    1995-02-10   \n",
       "1     tt0068646                                  The Godfather    09 21 1972   \n",
       "2     tt0468569                                The Dark Knight   23 -07-2008   \n",
       "3     tt0071562                         The Godfather: Part II    1975-09-25   \n",
       "4     tt0110912                                   Pulp Fiction    1994-10-28   \n",
       "5     tt0167260  The Lord of the Rings: The Return of the King     22 Feb 04   \n",
       "6     tt0108052                               Schindler's List    1994-03-11   \n",
       "7     tt0050083                                   12 Angry Men    1957-09-04   \n",
       "8     tt1375666                                      Inception    2010-09-24   \n",
       "9     tt0137523                                     Fight Club      10-29-99   \n",
       "\n",
       "                      Genrë¨ Duration      Country Content Rating  \\\n",
       "0                      Drama      142          USA              R   \n",
       "1               Crime, Drama      175          USA              R   \n",
       "2       Action, Crime, Drama      152           US          PG-13   \n",
       "3               Crime, Drama      220          USA              R   \n",
       "4               Crime, Drama                   USA              R   \n",
       "5   Action, Adventure, Drama      201  New Zealand          PG-13   \n",
       "6  Biography, Drama, History      Nan          USA              R   \n",
       "7               Crime, Drama       96          USA      Not Rated   \n",
       "8  Action, Adventure, Sci-Fi      148          USA          PG-13   \n",
       "9                      Drama      Inf           UK              R   \n",
       "\n",
       "               Director  Unnamed: 8         Income     Votes  Score  \n",
       "0        Frank Darabont         NaN     $ 28815245  2.278.845   9.3  \n",
       "1  Francis Ford Coppola         NaN    $ 246120974  1.572.674   9.2  \n",
       "2     Christopher Nolan         NaN   $ 1005455211  2.241.615    9.  \n",
       "3  Francis Ford Coppola         NaN  $ 4o8,035,783  1.098.714  9,.0  \n",
       "4     Quentin Tarantino         NaN    $ 222831817  1.780.147  8,9f  \n",
       "5         Peter Jackson         NaN   $ 1142271098  1.604.280  08.9  \n",
       "6      Steven Spielberg         NaN    $ 322287794  1.183.248   8.9  \n",
       "7          Sidney Lumet         NaN          $ 576    668.473   8.9  \n",
       "8     Christopher Nolan         NaN    $ 869784991  2.002.816  8..8  \n",
       "9         David Fincher         NaN    $ 101218804  1.807.440   8.8  "
      ]
     },
     "execution_count": 4,
     "metadata": {},
     "output_type": "execute_result"
    }
   ],
   "source": [
    "# printing few rows of the dataframe\n",
    "df.head(10)"
   ]
  },
  {
   "cell_type": "code",
   "execution_count": 5,
   "id": "ec0f6541",
   "metadata": {},
   "outputs": [],
   "source": [
    "# dropping the unnamed row beacuse it is totally empty\n",
    "df.drop('Unnamed: 8', axis= 1, inplace = True)"
   ]
  },
  {
   "cell_type": "code",
   "execution_count": 6,
   "id": "056fd970",
   "metadata": {},
   "outputs": [
    {
     "name": "stdout",
     "output_type": "stream",
     "text": [
      "<class 'pandas.core.frame.DataFrame'>\n",
      "RangeIndex: 101 entries, 0 to 100\n",
      "Data columns (total 11 columns):\n",
      " #   Column          Non-Null Count  Dtype \n",
      "---  ------          --------------  ----- \n",
      " 0   IMBD title ID   100 non-null    object\n",
      " 1   Original titlÊ  100 non-null    object\n",
      " 2   Release year    100 non-null    object\n",
      " 3   Genrë¨          100 non-null    object\n",
      " 4   Duration        99 non-null     object\n",
      " 5   Country         100 non-null    object\n",
      " 6   Content Rating  77 non-null     object\n",
      " 7   Director        100 non-null    object\n",
      " 8   Income          100 non-null    object\n",
      " 9    Votes          100 non-null    object\n",
      " 10  Score           100 non-null    object\n",
      "dtypes: object(11)\n",
      "memory usage: 8.8+ KB\n"
     ]
    }
   ],
   "source": [
    "# Printing General information about the dataset\n",
    "df.info()"
   ]
  },
  {
   "cell_type": "code",
   "execution_count": 7,
   "id": "715b55fc",
   "metadata": {},
   "outputs": [
    {
     "data": {
      "text/plain": [
       "IMBD title ID      1\n",
       "Original titlÊ     1\n",
       "Release year       1\n",
       "Genrë¨             1\n",
       "Duration           2\n",
       "Country            1\n",
       "Content Rating    24\n",
       "Director           1\n",
       "Income             1\n",
       " Votes             1\n",
       "Score              1\n",
       "dtype: int64"
      ]
     },
     "execution_count": 7,
     "metadata": {},
     "output_type": "execute_result"
    }
   ],
   "source": [
    "df.isnull().sum()"
   ]
  },
  {
   "cell_type": "code",
   "execution_count": 8,
   "id": "f5d2db4d",
   "metadata": {},
   "outputs": [
    {
     "name": "stdout",
     "output_type": "stream",
     "text": [
      "13   IMBD title ID     True\n",
      "     Original titlÊ    True\n",
      "     Release year      True\n",
      "     Genrë¨            True\n",
      "     Duration          True\n",
      "     Country           True\n",
      "     Content Rating    True\n",
      "     Director          True\n",
      "     Income            True\n",
      "      Votes            True\n",
      "     Score             True\n",
      "14   Duration          True\n",
      "27   Content Rating    True\n",
      "28   Content Rating    True\n",
      "36   Content Rating    True\n",
      "40   Content Rating    True\n",
      "41   Content Rating    True\n",
      "47   Content Rating    True\n",
      "48   Content Rating    True\n",
      "56   Content Rating    True\n",
      "58   Content Rating    True\n",
      "62   Content Rating    True\n",
      "63   Content Rating    True\n",
      "65   Content Rating    True\n",
      "66   Content Rating    True\n",
      "69   Content Rating    True\n",
      "70   Content Rating    True\n",
      "81   Content Rating    True\n",
      "86   Content Rating    True\n",
      "89   Content Rating    True\n",
      "90   Content Rating    True\n",
      "92   Content Rating    True\n",
      "93   Content Rating    True\n",
      "98   Content Rating    True\n",
      "100  Content Rating    True\n",
      "dtype: bool\n"
     ]
    }
   ],
   "source": [
    "null = df.isnull().stack()\n",
    "null = null[null]\n",
    "print(null)"
   ]
  },
  {
   "cell_type": "code",
   "execution_count": 9,
   "id": "bf398d51",
   "metadata": {},
   "outputs": [
    {
     "data": {
      "text/plain": [
       "np.int64(2)"
      ]
     },
     "execution_count": 9,
     "metadata": {},
     "output_type": "execute_result"
    }
   ],
   "source": [
    "# First checking actual NaN (which pandas recognizes)\n",
    "df['Duration'].isna().sum()"
   ]
  },
  {
   "cell_type": "code",
   "execution_count": 10,
   "id": "a5f08db4",
   "metadata": {},
   "outputs": [
    {
     "data": {
      "text/plain": [
       "np.int64(1)"
      ]
     },
     "execution_count": 10,
     "metadata": {},
     "output_type": "execute_result"
    }
   ],
   "source": [
    "# Also check for string \"inf\" or \"Infinity\"\n",
    "df['Duration'].str.lower().isin(['inf', 'infinity']).sum()"
   ]
  },
  {
   "cell_type": "markdown",
   "id": "9129c9a1",
   "metadata": {},
   "source": [
    "### Observations:\n",
    "- Some columns name have specail characters which is creating encoding problem, so we need to change correct the names.\n",
    "- there's a unnamed column which is totally empty, which is already removed.\n",
    "- 'Duration', 'Income', 'Votes', 'Score' columns are read as object (string), they should be converted to numeric types after cleaning.\n",
    "- 'Income' contains $, commas, and dots.\n",
    "- 'Votes' uses dots as thousand separators (e.g. '2.278.845').\n",
    "- After removing unnamed column 'Duration' has 1 missing value, 2 Nan values and 1 inf value.\n",
    "- 'Content Rating' has 23 missing values.\n",
    "- 'Release year' column has mixed date formats, we have to change the date format in pandas datetime."
   ]
  },
  {
   "cell_type": "code",
   "execution_count": 11,
   "id": "d531dfdb",
   "metadata": {},
   "outputs": [
    {
     "data": {
      "text/plain": [
       "['IMBD title ID',\n",
       " 'Original titlÊ',\n",
       " 'Release year',\n",
       " 'Genrë¨',\n",
       " 'Duration',\n",
       " 'Country',\n",
       " 'Content Rating',\n",
       " 'Director',\n",
       " 'Income',\n",
       " ' Votes ',\n",
       " 'Score']"
      ]
     },
     "execution_count": 11,
     "metadata": {},
     "output_type": "execute_result"
    }
   ],
   "source": [
    "# listing all the columns get an idea about the wrong names\n",
    "df.columns.to_list()"
   ]
  },
  {
   "cell_type": "code",
   "execution_count": 12,
   "id": "edf06d36",
   "metadata": {},
   "outputs": [],
   "source": [
    "# Changing the names of each columns t\n",
    "df.rename(columns={'IMBD title ID': 'IMDB TITLE ID'}, inplace=True)\n",
    "df.rename(columns={'Original titlÊ': 'ORIGINAL TITLE'}, inplace=True)\n",
    "df.rename(columns={'Release year': 'RELEASE YEAR'}, inplace=True)\n",
    "df.rename(columns={'Genrë¨': 'GENRE'}, inplace=True)\n",
    "df.rename(columns={'Duration': 'DURATION'}, inplace=True)\n",
    "df.rename(columns={'Country':'COUNTRY'}, inplace=True)\n",
    "df.rename(columns={'Content Rating':'CONTENT RATING'}, inplace=True)\n",
    "df.rename(columns={'Director':'DIRECTOR'}, inplace=True)\n",
    "df.rename(columns={'Income':'INCOME'},inplace=True)\n",
    "df.rename(columns={' Votes ': 'VOTES'}, inplace=True)\n",
    "df.rename(columns={'Score':'SCORE'}, inplace=True)"
   ]
  },
  {
   "cell_type": "code",
   "execution_count": 13,
   "id": "d4cbd736",
   "metadata": {},
   "outputs": [],
   "source": [
    "# Removing special characters from the columns\n",
    "df['INCOME'] = df['INCOME'].str.replace('$', '', regex=False)\n",
    "df['INCOME'] = df['INCOME'].str.replace(',', '', regex=False)\n",
    "df['VOTES'] = df['VOTES'].str.replace('.', '', regex=False)"
   ]
  },
  {
   "cell_type": "code",
   "execution_count": 14,
   "id": "44e611fb",
   "metadata": {},
   "outputs": [],
   "source": [
    "# correcting the data type of each columns \n",
    "df['DURATION'] = pd.to_numeric(df['DURATION'], errors='coerce')\n",
    "df['RELEASE YEAR'] = pd.to_datetime(df['RELEASE YEAR'], errors='coerce', dayfirst=False)\n",
    "df['INCOME'] = pd.to_numeric(df['INCOME'], errors='coerce')\n",
    "df['SCORE'] = pd.to_numeric(df['SCORE'], errors= 'coerce')\n",
    "df['VOTES'] = pd.to_numeric(df['VOTES'], errors= 'coerce')"
   ]
  },
  {
   "cell_type": "code",
   "execution_count": 15,
   "id": "66865f31",
   "metadata": {},
   "outputs": [],
   "source": [
    "# dropping column 13 because it is totally empty\n",
    "df.drop(13, axis=0, inplace= True)"
   ]
  },
  {
   "cell_type": "code",
   "execution_count": 16,
   "id": "761fabaf",
   "metadata": {},
   "outputs": [
    {
     "data": {
      "text/plain": [
       "IMDB TITLE ID      0\n",
       "ORIGINAL TITLE     0\n",
       "RELEASE YEAR      11\n",
       "GENRE              0\n",
       "DURATION           6\n",
       "COUNTRY            0\n",
       "CONTENT RATING    23\n",
       "DIRECTOR           0\n",
       "INCOME             1\n",
       "VOTES              0\n",
       "SCORE              8\n",
       "dtype: int64"
      ]
     },
     "execution_count": 16,
     "metadata": {},
     "output_type": "execute_result"
    }
   ],
   "source": [
    "# checking null or missing values after correct the names and data types of columns\n",
    "df.isnull().sum()"
   ]
  },
  {
   "cell_type": "code",
   "execution_count": 17,
   "id": "1daffe86",
   "metadata": {},
   "outputs": [
    {
     "data": {
      "text/html": [
       "<div>\n",
       "<style scoped>\n",
       "    .dataframe tbody tr th:only-of-type {\n",
       "        vertical-align: middle;\n",
       "    }\n",
       "\n",
       "    .dataframe tbody tr th {\n",
       "        vertical-align: top;\n",
       "    }\n",
       "\n",
       "    .dataframe thead th {\n",
       "        text-align: right;\n",
       "    }\n",
       "</style>\n",
       "<table border=\"1\" class=\"dataframe\">\n",
       "  <thead>\n",
       "    <tr style=\"text-align: right;\">\n",
       "      <th></th>\n",
       "      <th>RELEASE YEAR</th>\n",
       "    </tr>\n",
       "  </thead>\n",
       "  <tbody>\n",
       "    <tr>\n",
       "      <th>1</th>\n",
       "      <td>NaT</td>\n",
       "    </tr>\n",
       "    <tr>\n",
       "      <th>2</th>\n",
       "      <td>NaT</td>\n",
       "    </tr>\n",
       "    <tr>\n",
       "      <th>5</th>\n",
       "      <td>NaT</td>\n",
       "    </tr>\n",
       "    <tr>\n",
       "      <th>9</th>\n",
       "      <td>NaT</td>\n",
       "    </tr>\n",
       "    <tr>\n",
       "      <th>12</th>\n",
       "      <td>NaT</td>\n",
       "    </tr>\n",
       "    <tr>\n",
       "      <th>15</th>\n",
       "      <td>NaT</td>\n",
       "    </tr>\n",
       "    <tr>\n",
       "      <th>18</th>\n",
       "      <td>NaT</td>\n",
       "    </tr>\n",
       "    <tr>\n",
       "      <th>45</th>\n",
       "      <td>NaT</td>\n",
       "    </tr>\n",
       "    <tr>\n",
       "      <th>70</th>\n",
       "      <td>NaT</td>\n",
       "    </tr>\n",
       "    <tr>\n",
       "      <th>83</th>\n",
       "      <td>NaT</td>\n",
       "    </tr>\n",
       "    <tr>\n",
       "      <th>84</th>\n",
       "      <td>NaT</td>\n",
       "    </tr>\n",
       "  </tbody>\n",
       "</table>\n",
       "</div>"
      ],
      "text/plain": [
       "   RELEASE YEAR\n",
       "1           NaT\n",
       "2           NaT\n",
       "5           NaT\n",
       "9           NaT\n",
       "12          NaT\n",
       "15          NaT\n",
       "18          NaT\n",
       "45          NaT\n",
       "70          NaT\n",
       "83          NaT\n",
       "84          NaT"
      ]
     },
     "execution_count": 17,
     "metadata": {},
     "output_type": "execute_result"
    }
   ],
   "source": [
    "# printing rows which have wrong date formats\n",
    "df[df['RELEASE YEAR'].isna()][['RELEASE YEAR']]"
   ]
  },
  {
   "cell_type": "code",
   "execution_count": 18,
   "id": "e8dc9c6c",
   "metadata": {},
   "outputs": [],
   "source": [
    "# filling the realease year missing value, Two approach either we can manually fill the data or using fillna function\n",
    "\n",
    "# 1st approach\n",
    "df['RELEASE YEAR'] = df['RELEASE YEAR'].fillna(df['RELEASE YEAR'].mode()[0])\n",
    "\n",
    "# 2nd approach: Run the below codes before coverting Release Year column to datetime datatype and manually fill the data\n",
    "\n",
    "# converted = pd.to_datetime(df['Release year'], errors='coerce')\n",
    "# failed_mask = converted.isna()\n",
    "# failed_dates = df.loc[failed_mask, 'Release year']\n",
    "# print(failed_dates)\n",
    "\n",
    "# df.iloc[1, 2] = '1972-09-21'\n",
    "# df.iloc[2, 2] = '2008-07-23'\n",
    "# df.iloc[5, 2] = '2004-02-22'\n",
    "# df.iloc[9, 2] = '1999-10-29'\n",
    "# df.iloc[12, 2] = '1966-12-23'\n",
    "# df.iloc[15, 2] = '2003-01-16'\n",
    "# df.iloc[18, 2] = '1976-11-18'\n",
    "# df.iloc[45, 2] = '1946-11-21'\n",
    "# df.iloc[70, 2] = '1951-03-06'\n",
    "# df.iloc[83, 2] = '1984-02-24'\n",
    "# df.iloc[84, 2] = '1976-12-24'"
   ]
  },
  {
   "cell_type": "code",
   "execution_count": 19,
   "id": "2ffa68f4",
   "metadata": {},
   "outputs": [],
   "source": [
    "# manully fixing a invalid value in the 4th row of 'INCOME' column\n",
    "df.iloc[3, 8] = 408035783"
   ]
  },
  {
   "cell_type": "code",
   "execution_count": 20,
   "id": "4b6671d6",
   "metadata": {},
   "outputs": [],
   "source": [
    "# filling the missing value of \"Score\" with mean\n",
    "df['SCORE'] = df['SCORE'].fillna(df['SCORE'].mean())"
   ]
  },
  {
   "cell_type": "code",
   "execution_count": 21,
   "id": "aa1f91ce",
   "metadata": {},
   "outputs": [],
   "source": [
    "# handling the missing value of \"CONTENT RATING\" with mode\n",
    "df['CONTENT RATING'] = df['CONTENT RATING'].fillna(df['CONTENT RATING'].mode()[0])"
   ]
  },
  {
   "cell_type": "code",
   "execution_count": 22,
   "id": "0873c704",
   "metadata": {},
   "outputs": [],
   "source": [
    "# replacing the infinity value with nan value\n",
    "df['DURATION'] = df['DURATION'].replace([np.inf, -np.inf], np.nan)"
   ]
  },
  {
   "cell_type": "code",
   "execution_count": 23,
   "id": "4dc02e17",
   "metadata": {},
   "outputs": [],
   "source": [
    "# handling the missing value of duration with mean value(rounded to 1 decimal place)\n",
    "mean_val = round(df['DURATION'].mean(), 1)\n",
    "df['DURATION'] = df['DURATION'].fillna(mean_val)"
   ]
  },
  {
   "cell_type": "code",
   "execution_count": 24,
   "id": "74512c53",
   "metadata": {},
   "outputs": [
    {
     "data": {
      "text/plain": [
       "IMDB TITLE ID     0\n",
       "ORIGINAL TITLE    0\n",
       "RELEASE YEAR      0\n",
       "GENRE             0\n",
       "DURATION          0\n",
       "COUNTRY           0\n",
       "CONTENT RATING    0\n",
       "DIRECTOR          0\n",
       "INCOME            0\n",
       "VOTES             0\n",
       "SCORE             0\n",
       "dtype: int64"
      ]
     },
     "execution_count": 24,
     "metadata": {},
     "output_type": "execute_result"
    }
   ],
   "source": [
    "# Checking the null values after cleaning the dataset\n",
    "df.isnull().sum()"
   ]
  },
  {
   "cell_type": "code",
   "execution_count": 25,
   "id": "7924b434",
   "metadata": {},
   "outputs": [
    {
     "name": "stdout",
     "output_type": "stream",
     "text": [
      "<class 'pandas.core.frame.DataFrame'>\n",
      "Index: 100 entries, 0 to 100\n",
      "Data columns (total 11 columns):\n",
      " #   Column          Non-Null Count  Dtype         \n",
      "---  ------          --------------  -----         \n",
      " 0   IMDB TITLE ID   100 non-null    object        \n",
      " 1   ORIGINAL TITLE  100 non-null    object        \n",
      " 2   RELEASE YEAR    100 non-null    datetime64[ns]\n",
      " 3   GENRE           100 non-null    object        \n",
      " 4   DURATION        100 non-null    float64       \n",
      " 5   COUNTRY         100 non-null    object        \n",
      " 6   CONTENT RATING  100 non-null    object        \n",
      " 7   DIRECTOR        100 non-null    object        \n",
      " 8   INCOME          100 non-null    float64       \n",
      " 9   VOTES           100 non-null    float64       \n",
      " 10  SCORE           100 non-null    float64       \n",
      "dtypes: datetime64[ns](1), float64(4), object(6)\n",
      "memory usage: 9.4+ KB\n"
     ]
    }
   ],
   "source": [
    "# Checking informations about the dataset after cleaning.\n",
    "df.info()"
   ]
  },
  {
   "cell_type": "code",
   "execution_count": 26,
   "id": "43ea4b04",
   "metadata": {},
   "outputs": [
    {
     "name": "stdout",
     "output_type": "stream",
     "text": [
      "0\n"
     ]
    }
   ],
   "source": [
    "# checking duplicates of a dataset\n",
    "print(df.duplicated().sum())"
   ]
  },
  {
   "cell_type": "code",
   "execution_count": 27,
   "id": "c24a9a51",
   "metadata": {},
   "outputs": [],
   "source": [
    "# Saving the cleaned the dataset\n",
    "hh= df.to_csv('Cleaned-csv.csv', index=False)"
   ]
  }
 ],
 "metadata": {
  "kernelspec": {
   "display_name": "Python 3",
   "language": "python",
   "name": "python3"
  },
  "language_info": {
   "codemirror_mode": {
    "name": "ipython",
    "version": 3
   },
   "file_extension": ".py",
   "mimetype": "text/x-python",
   "name": "python",
   "nbconvert_exporter": "python",
   "pygments_lexer": "ipython3",
   "version": "3.12.10"
  }
 },
 "nbformat": 4,
 "nbformat_minor": 5
}
